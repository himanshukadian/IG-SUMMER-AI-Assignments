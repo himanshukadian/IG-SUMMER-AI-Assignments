{
 "cells": [
  {
   "cell_type": "code",
   "execution_count": 10,
   "metadata": {
    "colab": {},
    "colab_type": "code",
    "id": "F-6bE0dYcBgA"
   },
   "outputs": [],
   "source": [
    "## Import stuff\n",
    " \n",
    "import numpy as np\n",
    "import pandas as pd\n",
    "import matplotlib.pyplot as plt\n",
    "from sklearn import datasets, linear_model, metrics"
   ]
  },
  {
   "cell_type": "code",
   "execution_count": 11,
   "metadata": {
    "colab": {},
    "colab_type": "code",
    "id": "gK71NIhMcEs5"
   },
   "outputs": [],
   "source": [
    "## Load the diabetes dataset\n",
    "diabetes = datasets.load_diabetes()\n",
    "\n",
    "##converting diabetes dataset to dataframe\n",
    "df = pd.DataFrame(diabetes.data, columns=diabetes.feature_names)\n",
    "df['target'] = pd.Series(diabetes.target)\n",
    "\n",
    "#we need to normalize the features using mean normalization\n",
    "#df = (df - df.mean())/df.std()\n",
    "\n",
    "\n",
    "# Split the data into training/testing sets\n",
    "diabetes_X_train = df.iloc[:-20,0:10]\n",
    "diabetes_X_test = df.iloc[-20:,0:10]\n",
    " \n",
    "# Split the targets into training/testing sets\n",
    "diabetes_y_train = df.iloc[:-20,10:11].values\n",
    "diabetes_y_test = df.iloc[-20:,10:11].values\n",
    "\n",
    "\n",
    "ones = np.ones([diabetes_X_train.shape[0],1])\n",
    "diabetes_X_train = np.concatenate((ones,diabetes_X_train),axis=1)\n",
    "diabetes_X_test = np.concatenate((np.ones([diabetes_X_test.shape[0],1]),diabetes_X_test),axis=1)\n",
    "\n"
   ]
  },
  {
   "cell_type": "code",
   "execution_count": 12,
   "metadata": {
    "colab": {},
    "colab_type": "code",
    "id": "XJTg22ybcHsl"
   },
   "outputs": [
    {
     "name": "stdout",
     "output_type": "stream",
     "text": [
      "Epoch 0: 14734.323460\n",
      "Epoch 5000: 1524.099638\n",
      "Epoch 10000: 1470.706970\n",
      "Epoch 15000: 1463.728650\n",
      "Epoch 20000: 1462.376138\n",
      "Epoch 25000: 1461.897451\n",
      "Epoch 30000: 1461.597617\n",
      "Epoch 35000: 1461.347012\n",
      "Epoch 40000: 1461.115463\n",
      "Epoch 45000: 1460.894566\n",
      "Epoch 50000: 1460.681519\n",
      "Epoch 55000: 1460.475130\n",
      "Epoch 60000: 1460.274728\n",
      "Epoch 65000: 1460.079839\n",
      "Epoch 70000: 1459.890088\n",
      "Epoch 75000: 1459.705159\n",
      "Epoch 80000: 1459.524779\n",
      "Epoch 85000: 1459.348712\n",
      "Epoch 90000: 1459.176750\n",
      "Epoch 95000: 1459.008707\n"
     ]
    },
    {
     "data": {
      "text/plain": [
       "Text(0.5, 1.0, 'Error vs. Training Epoch')"
      ]
     },
     "execution_count": 12,
     "metadata": {},
     "output_type": "execute_result"
    },
    {
     "data": {
      "image/png": "[encoded data removed]",
      "text/plain": [
       "<Figure size 864x432 with 1 Axes>"
      ]
     },
     "metadata": {
      "needs_background": "light"
     },
     "output_type": "display_data"
    }
   ],
   "source": [
    "# train\n",
    "X = diabetes_X_train\n",
    "y = diabetes_y_train\n",
    "y = y.reshape(len(y),1)\n",
    "m, n = np.shape(X)\n",
    "# train: init\n",
    "theta = np.zeros([11,1])\n",
    " \n",
    "learning_rate = 0.1\n",
    "epochs = 100000\n",
    "\n",
    "cost = np.zeros(epochs)\n",
    "# train: gradient descent\n",
    "for i in range(epochs):\n",
    "    \n",
    "    # calculate predictions\n",
    "    prediction = np.dot(X,theta)\n",
    "    loss = prediction - y\n",
    "    \n",
    "    # calculate error and cost (mean squared error)\n",
    "    mean_squared_error = np.sum(loss ** 2) / (2 * m)\n",
    "    cost[i] = mean_squared_error\n",
    "    # calculate gradients\n",
    "    gradient = np.dot(X.T, loss) / m\n",
    "    \n",
    "    # update parameters\n",
    "    theta = theta - learning_rate * gradient\n",
    " \n",
    "    # diagnostic output\n",
    "    if i % 5000 == 0: print(\"Epoch %d: %f\" % (i, mean_squared_error))\n",
    "\n",
    "\n",
    "\n",
    "\n",
    "#plot the cost\n",
    "fig, ax = plt.subplots(figsize=(12,6))  \n",
    "ax.plot(np.arange(epochs), cost, 'r')\n",
    "ax.set_xlabel('Iterations')  \n",
    "ax.set_ylabel('Cost')  \n",
    "ax.set_title('Error vs. Training Epoch')"
   ]
  },
  {
   "cell_type": "code",
   "execution_count": 13,
   "metadata": {
    "colab": {},
    "colab_type": "code",
    "id": "uvSdTn-0cKJL"
   },
   "outputs": [
    {
     "name": "stdout",
     "output_type": "stream",
     "text": [
      "Coefficients: \n",
      " [[ 152.72872179]\n",
      " [   3.66162077]\n",
      " [-234.66428413]\n",
      " [ 519.39480725]\n",
      " [ 325.58121803]\n",
      " [-176.09741143]\n",
      " [ -16.44091006]\n",
      " [-180.07233874]\n",
      " [ 108.04606018]\n",
      " [ 502.78371278]\n",
      " [  78.97034211]]\n",
      "Mean squared error: 996.76\n",
      "========================================================================================================================\n"
     ]
    }
   ],
   "source": [
    "# test\n",
    "X = diabetes_X_test\n",
    "y = diabetes_y_test\n",
    "m,n = X.shape\n",
    "y=y.reshape(m,1)\n",
    "# calculate predictions + calculate error and cost (same code as above)\n",
    "prediction = np.dot(X,theta)\n",
    "error = prediction - y\n",
    "mean_squared_error = np.sum(error ** 2) / (2 * m)\n",
    "print('Coefficients: \\n', theta)\n",
    "print(\"Mean squared error: %.2f\" % mean_squared_error)\n",
    "print(\"=\"*120)"
   ]
  },
  {
   "cell_type": "markdown",
   "metadata": {},
   "source": [
    "# after normalisation"
   ]
  },
  {
   "cell_type": "code",
   "execution_count": 14,
   "metadata": {},
   "outputs": [],
   "source": [
    "## Load the diabetes dataset\n",
    "diabetes = datasets.load_diabetes()\n",
    "\n",
    "##converting diabetes dataset to dataframe\n",
    "df = pd.DataFrame(diabetes.data, columns=diabetes.feature_names)\n",
    "df['target'] = pd.Series(diabetes.target)\n",
    "\n",
    "#we need to normalize the features using mean normalization\n",
    "df.iloc[:,0:10] = (df.iloc[:,0:10] - df.iloc[:,0:10].mean())/df.iloc[:,0:10].std()\n",
    "\n",
    "\n",
    "# Split the data into training/testing sets\n",
    "diabetes_X_train = df.iloc[:-20,0:10]\n",
    "diabetes_X_test = df.iloc[-20:,0:10]\n",
    " \n",
    "# Split the targets into training/testing sets\n",
    "diabetes_y_train = df.iloc[:-20,10:11].values\n",
    "diabetes_y_test = df.iloc[-20:,10:11].values\n",
    "\n",
    "\n",
    "ones = np.ones([diabetes_X_train.shape[0],1])\n",
    "diabetes_X_train = np.concatenate((ones,diabetes_X_train),axis=1)\n",
    "diabetes_X_test = np.concatenate((np.ones([diabetes_X_test.shape[0],1]),diabetes_X_test),axis=1)"
   ]
  },
  {
   "cell_type": "code",
   "execution_count": 15,
   "metadata": {},
   "outputs": [
    {
     "name": "stdout",
     "output_type": "stream",
     "text": [
      "Epoch 0: 14734.323460\n",
      "Epoch 5000: 1450.780696\n",
      "Epoch 10000: 1450.778824\n",
      "Epoch 15000: 1450.778824\n",
      "Epoch 20000: 1450.778824\n",
      "Epoch 25000: 1450.778824\n",
      "Epoch 30000: 1450.778824\n",
      "Epoch 35000: 1450.778824\n",
      "Epoch 40000: 1450.778824\n",
      "Epoch 45000: 1450.778824\n",
      "Epoch 50000: 1450.778824\n",
      "Epoch 55000: 1450.778824\n",
      "Epoch 60000: 1450.778824\n",
      "Epoch 65000: 1450.778824\n",
      "Epoch 70000: 1450.778824\n",
      "Epoch 75000: 1450.778824\n",
      "Epoch 80000: 1450.778824\n",
      "Epoch 85000: 1450.778824\n",
      "Epoch 90000: 1450.778824\n",
      "Epoch 95000: 1450.778824\n"
     ]
    },
    {
     "data": {
      "text/plain": [
       "Text(0.5, 1.0, 'Error vs. Training Epoch')"
      ]
     },
     "execution_count": 15,
     "metadata": {},
     "output_type": "execute_result"
    },
    {
     "data": {
      "image/png": "[encoded data removed]",
      "text/plain": [
       "<Figure size 864x432 with 1 Axes>"
      ]
     },
     "metadata": {
      "needs_background": "light"
     },
     "output_type": "display_data"
    }
   ],
   "source": [
    "# train\n",
    "X = diabetes_X_train\n",
    "y = diabetes_y_train\n",
    "y = y.reshape(len(y),1)\n",
    "m, n = np.shape(X)\n",
    "# train: init\n",
    "theta = np.zeros([11,1])\n",
    " \n",
    "learning_rate = 0.1\n",
    "epochs = 100000\n",
    "\n",
    "cost = np.zeros(epochs)\n",
    "# train: gradient descent\n",
    "for i in range(epochs):\n",
    "    \n",
    "    # calculate predictions\n",
    "    prediction = np.dot(X,theta)\n",
    "    loss = prediction - y\n",
    "    \n",
    "    # calculate error and cost (mean squared error)\n",
    "    mean_squared_error = np.sum(loss ** 2) / (2 * m)\n",
    "    cost[i] = mean_squared_error\n",
    "    # calculate gradients\n",
    "    gradient = np.dot(X.T, loss) / m\n",
    "    \n",
    "    # update parameters\n",
    "    theta = theta - learning_rate * gradient\n",
    " \n",
    "    # diagnostic output\n",
    "    if i % 5000 == 0: print(\"Epoch %d: %f\" % (i, mean_squared_error))\n",
    "\n",
    "\n",
    "\n",
    "\n",
    "#plot the cost\n",
    "fig, ax = plt.subplots(figsize=(12,6))  \n",
    "ax.plot(np.arange(epochs), cost, 'r')\n",
    "ax.set_xlabel('Iterations')  \n",
    "ax.set_ylabel('Cost')  \n",
    "ax.set_title('Error vs. Training Epoch')"
   ]
  },
  {
   "cell_type": "code",
   "execution_count": 16,
   "metadata": {},
   "outputs": [
    {
     "name": "stdout",
     "output_type": "stream",
     "text": [
      "Coefficients: \n",
      " [[ 1.52764307e+02]\n",
      " [ 1.44523595e-02]\n",
      " [-1.13161579e+01]\n",
      " [ 2.43109812e+01]\n",
      " [ 1.56065229e+01]\n",
      " [-3.87681766e+01]\n",
      " [ 2.34673613e+01]\n",
      " [ 4.89754534e+00]\n",
      " [ 8.79078519e+00]\n",
      " [ 3.54056960e+01]\n",
      " [ 3.62357963e+00]]\n",
      "Mean squared error: 1002.28\n",
      "========================================================================================================================\n"
     ]
    }
   ],
   "source": [
    "# test\n",
    "X = diabetes_X_test\n",
    "y = diabetes_y_test\n",
    "m,n = X.shape\n",
    "y=y.reshape(m,1)\n",
    "# calculate predictions + calculate error and cost (same code as above)\n",
    "prediction = np.dot(X,theta)\n",
    "error = prediction - y\n",
    "mean_squared_error = np.sum(error ** 2) / (2 * m)\n",
    "print('Coefficients: \\n', theta)\n",
    "print(\"Mean squared error: %.2f\" % mean_squared_error)\n",
    "print(\"=\"*120)"
   ]
  },
  {
   "cell_type": "code",
   "execution_count": null,
   "metadata": {},
   "outputs": [],
   "source": []
  }
 ],
 "metadata": {
  "colab": {
   "name": "week1assignment.ipynb",
   "provenance": []
  },
  "kernelspec": {
   "display_name": "Python 3",
   "language": "python",
   "name": "python3"
  },
  "language_info": {
   "codemirror_mode": {
    "name": "ipython",
    "version": 3
   },
   "file_extension": ".py",
   "mimetype": "text/x-python",
   "name": "python",
   "nbconvert_exporter": "python",
   "pygments_lexer": "ipython3",
   "version": "3.7.3"
  }
 },
 "nbformat": 4,
 "nbformat_minor": 1
}
